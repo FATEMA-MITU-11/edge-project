{
  "nbformat": 4,
  "nbformat_minor": 0,
  "metadata": {
    "colab": {
      "provenance": [],
      "authorship_tag": "ABX9TyP3/5hYZ4HqoQZFysayaK0L",
      "include_colab_link": true
    },
    "kernelspec": {
      "name": "python3",
      "display_name": "Python 3"
    },
    "language_info": {
      "name": "python"
    }
  },
  "cells": [
    {
      "cell_type": "markdown",
      "metadata": {
        "id": "view-in-github",
        "colab_type": "text"
      },
      "source": [
        "<a href=\"https://colab.research.google.com/github/FATEMA-MITU-11/edge-project/blob/main/Untitled2.ipynb\" target=\"_parent\"><img src=\"https://colab.research.google.com/assets/colab-badge.svg\" alt=\"Open In Colab\"/></a>"
      ]
    },
    {
      "cell_type": "code",
      "execution_count": 2,
      "metadata": {
        "id": "xtKTXt0DOXiF",
        "outputId": "c81d7739-54fe-421a-c832-b51d2b02f397",
        "colab": {
          "base_uri": "https://localhost:8080/"
        }
      },
      "outputs": [
        {
          "output_type": "stream",
          "name": "stdout",
          "text": [
            "CSV file 'student_data.csv' created successfully\n"
          ]
        }
      ],
      "source": [
        "# prompt: create a csv file with column name:student name,student id,subject,score,attendance percentage and assignment completion (yes/no0\n",
        "\n",
        "import csv\n",
        "\n",
        "# Define the name of the CSV file\n",
        "csv_file = 'student_data.csv'\n",
        "\n",
        "# Write the data to the CSV file\n",
        "try:\n",
        "    with open(csv_file, 'w', newline='') as file:\n",
        "        fieldnames = ['Student Name', 'Student ID', 'Subject', 'score', 'attendance percentage', 'assignment completion']\n",
        "        writer = csv.DictWriter(file, fieldnames=fieldnames)\n",
        "\n",
        "        # Write the header row\n",
        "        writer.writeheader()\n",
        "\n",
        "\n",
        "    print(f\"CSV file '{csv_file}' created successfully\")\n",
        "\n",
        "except Exception as e:\n",
        "    print(f\"An error occurred: {e}\")\n"
      ]
    },
    {
      "cell_type": "code",
      "source": [
        "# prompt: write a code to take input in student_data.csv\n",
        "\n",
        "import csv\n",
        "\n",
        "# Define the name of the CSV file\n",
        "csv_file = 'student_data.csv'\n",
        "\n",
        "# Write the data to the CSV file\n",
        "try:\n",
        "    with open(csv_file, 'w', newline='') as file:\n",
        "        fieldnames = ['Student Name', 'Student ID', 'Subject', 'score', 'attendance percentage', 'assignment completion']\n",
        "        writer = csv.DictWriter(file, fieldnames=fieldnames)\n",
        "\n",
        "        # Write the header row\n",
        "        writer.writeheader()\n",
        "\n",
        "        while True:\n",
        "          student_name = input(\"Enter student name (or type 'done' to finish): \")\n",
        "          if student_name.lower() == 'done':\n",
        "              break\n",
        "\n",
        "          student_id = input(\"Enter student ID: \")\n",
        "          subject = input(\"Enter subject: \")\n",
        "          score = input(\"Enter score: \")\n",
        "          attendance = input(\"Enter attendance percentage: \")\n",
        "          assignment = input(\"Enter assignment completion: \")\n",
        "\n",
        "          writer.writerow({\n",
        "              'Student Name': student_name,\n",
        "              'Student ID': student_id,\n",
        "              'Subject': subject,\n",
        "              'score': score,\n",
        "              'attendance percentage': attendance,\n",
        "              'assignment completion': assignment\n",
        "          })\n",
        "\n",
        "    print(f\"CSV file '{csv_file}' created successfully\")\n",
        "\n",
        "except Exception as e:\n",
        "    print(f\"An error occurred: {e}\")"
      ],
      "metadata": {
        "id": "YMZ_kwgda3t7",
        "outputId": "b7438ac1-f8f5-4375-ff14-2b189e237622",
        "colab": {
          "base_uri": "https://localhost:8080/"
        }
      },
      "execution_count": 7,
      "outputs": [
        {
          "output_type": "stream",
          "name": "stdout",
          "text": [
            "Enter student name (or type 'done' to finish): meem\n",
            "Enter student ID: 20156056\n",
            "Enter subject: english\n",
            "Enter score: 80\n",
            "Enter attendance percentage: 80\n",
            "Enter assignment completion: no\n",
            "Enter student name (or type 'done' to finish): shabnam\n",
            "Enter student ID: 20222456\n",
            "Enter subject: computer science\n",
            "Enter score: 89\n",
            "Enter attendance percentage: 89\n",
            "Enter assignment completion: yes\n",
            "Enter student name (or type 'done' to finish): monami\n",
            "Enter student ID: 2020134078\n",
            "Enter subject: mathmatics\n",
            "Enter score: 78\n",
            "Enter attendance percentage: 70\n",
            "Enter assignment completion: no\n",
            "Enter student name (or type 'done' to finish): done\n",
            "CSV file 'student_data.csv' created successfully\n"
          ]
        }
      ]
    }
  ]
}