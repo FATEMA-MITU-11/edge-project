{
  "nbformat": 4,
  "nbformat_minor": 0,
  "metadata": {
    "colab": {
      "provenance": [],
      "authorship_tag": "ABX9TyOXj5WsrJW8IEIcRn+IF/g+",
      "include_colab_link": true
    },
    "kernelspec": {
      "name": "python3",
      "display_name": "Python 3"
    },
    "language_info": {
      "name": "python"
    }
  },
  "cells": [
    {
      "cell_type": "markdown",
      "metadata": {
        "id": "view-in-github",
        "colab_type": "text"
      },
      "source": [
        "<a href=\"https://colab.research.google.com/github/FATEMA-MITU-11/edge-project/blob/main/edge_project.ipynb\" target=\"_parent\"><img src=\"https://colab.research.google.com/assets/colab-badge.svg\" alt=\"Open In Colab\"/></a>"
      ]
    },
    {
      "cell_type": "code",
      "source": [
        "# prompt: create a csv file with Student Name, Student ID\n",
        "# ○ Subject, Score, Attendance Percentage\n",
        "# ○ Assignment Completion (Yes/No)\n",
        "\n",
        "import csv\n",
        "\n",
        "data = [\n",
        "    ['Student Name', 'Student ID', 'Subject', 'Score', 'Attendance Percentage', 'Assignment Completion'],\n",
        "]\n",
        "\n",
        "with open('students_data.csv', 'w', newline='') as csvfile:\n",
        "    writer = csv.writer(csvfile)\n",
        "    writer.writerows(data)\n"
      ],
      "metadata": {
        "id": "7Y5cTvUuhGhU"
      },
      "execution_count": 26,
      "outputs": []
    },
    {
      "cell_type": "code",
      "source": [],
      "metadata": {
        "id": "pj1wJf1RlEy_"
      },
      "execution_count": null,
      "outputs": []
    },
    {
      "cell_type": "code",
      "source": [],
      "metadata": {
        "id": "hhgAC2c9laQ1"
      },
      "execution_count": null,
      "outputs": []
    },
    {
      "cell_type": "code",
      "source": [],
      "metadata": {
        "id": "xAsJhSL8oBhH"
      },
      "execution_count": null,
      "outputs": []
    },
    {
      "cell_type": "code",
      "source": [
        "import csv\n",
        "\n",
        "def input_data():\n",
        "    student_name = input(\"Enter Student Name: \")\n",
        "    student_id = input(\"Enter Student ID: \")\n",
        "    subject = input(\"Enter Subject: \")\n",
        "    score = input(\"Enter Score: \")\n",
        "    attendance = input(\"Enter Attendance Percentage: \")\n",
        "    assignment_completion = input(\"Enter Assignment Completion (Yes/No): \")\n",
        "\n",
        "    data = [student_name, student_id, subject, score, attendance, assignment_completion]\n",
        "\n",
        "    with open('students_data.csv', 'a', newline='') as csvfile:\n",
        "        writer = csv.writer(csvfile)\n",
        "        writer.writerow(data)\n",
        "\n",
        "input_data()"
      ],
      "metadata": {
        "id": "V1eL1jFXoF3u",
        "outputId": "927d9885-64c8-40a1-b0f7-f09d6ab42af1",
        "colab": {
          "base_uri": "https://localhost:8080/"
        }
      },
      "execution_count": 27,
      "outputs": [
        {
          "name": "stdout",
          "output_type": "stream",
          "text": [
            "Enter Student Name: mitu\n",
            "Enter Student ID: 2020134034\n",
            "Enter Subject: statistics\n",
            "Enter Score: 78\n",
            "Enter Attendance Percentage: 80\n",
            "Enter Assignment Completion (Yes/No): yes\n"
          ]
        }
      ]
    }
  ]
}