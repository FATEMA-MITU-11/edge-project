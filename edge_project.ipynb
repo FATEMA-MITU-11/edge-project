{
  "nbformat": 4,
  "nbformat_minor": 0,
  "metadata": {
    "colab": {
      "provenance": [],
      "include_colab_link": true
    },
    "kernelspec": {
      "name": "python3",
      "display_name": "Python 3"
    },
    "language_info": {
      "name": "python"
    }
  },
  "cells": [
    {
      "cell_type": "markdown",
      "metadata": {
        "id": "view-in-github",
        "colab_type": "text"
      },
      "source": [
        "<a href=\"https://colab.research.google.com/github/FATEMA-MITU-11/edge-project/blob/main/edge_project.ipynb\" target=\"_parent\"><img src=\"https://colab.research.google.com/assets/colab-badge.svg\" alt=\"Open In Colab\"/></a>"
      ]
    },
    {
      "cell_type": "code",
      "source": [
        "# prompt: create a csv file with Student Name, Student ID\n",
        "# ○ Subject, Score, Attendance Percentage\n",
        "# ○ Assignment Completion (Yes/No)\n",
        "\n",
        "import csv\n",
        "\n",
        "data = [\n",
        "    ['Student Name', 'Student ID', 'Subject', 'Score', 'Attendance Percentage', 'Assignment Completion'],\n",
        "]\n",
        "\n",
        "with open('students_data.csv', 'w', newline='') as csvfile:\n",
        "    writer = csv.writer(csvfile)\n",
        "    writer.writerows(data)\n"
      ],
      "metadata": {
        "id": "7Y5cTvUuhGhU"
      },
      "execution_count": null,
      "outputs": []
    },
    {
      "cell_type": "code",
      "source": [
        "\n",
        "import csv\n",
        "\n",
        "def input_data():\n",
        "    student_name = input(\"Enter Student Name: \")\n",
        "    student_id = input(\"Enter Student ID: \")\n",
        "    subject = input(\"Enter Subject: \")\n",
        "    score = input(\"Enter Score: \")\n",
        "    attendance = input(\"Enter Attendance Percentage: \")\n",
        "    assignment_completion = input(\"Enter Assignment Completion (Yes/No): \")\n",
        "\n",
        "    data = [student_name, student_id, subject, score, attendance, assignment_completion]\n",
        "\n",
        "    with open('students_data.csv', 'a', newline='') as csvfile:\n",
        "        writer = csv.writer(csvfile)\n",
        "        writer.writerow(data)\n",
        "input_data()\n"
      ],
      "metadata": {
        "id": "V1eL1jFXoF3u",
        "colab": {
          "base_uri": "https://localhost:8080/"
        },
        "outputId": "61608a08-4e9e-439e-c098-7e7fba3ce12a"
      },
      "execution_count": null,
      "outputs": [
        {
          "name": "stdout",
          "output_type": "stream",
          "text": [
            "Enter Student Name: MOMI\n",
            "Enter Student ID: 34\n",
            "Enter Subject: CSE\n",
            "Enter Score: 56\n",
            "Enter Attendance Percentage: 40\n",
            "Enter Assignment Completion (Yes/No): YES\n"
          ]
        }
      ]
    },
    {
      "cell_type": "code",
      "source": [
        "# prompt: save the information ofstudent_name, student_id, subject, score, attendance, assignment_completion information which is inputed by users\n",
        "\n",
        "import csv\n",
        "\n",
        "def input_data():\n",
        "    student_name = input(\"Enter Student Name: \")\n",
        "    student_id = input(\"Enter Student ID: \")\n",
        "    subject = input(\"Enter Subject: \")\n",
        "    score = input(\"Enter Score: \")\n",
        "    attendance = input(\"Enter Attendance Percentage: \")\n",
        "    assignment_completion = input(\"Enter Assignment Completion (Yes/No): \")\n",
        "\n",
        "    data = [student_name, student_id, subject, score, attendance, assignment_completion]\n",
        "\n",
        "    with open('students_data.csv', 'a', newline='') as csvfile:\n",
        "        writer = csv.writer(csvfile)\n",
        "        writer.writerow(data)\n",
        "\n",
        "# Check if the file exists, if not create it with header\n",
        "try:\n",
        "    with open('students_data.csv', 'r') as csvfile:\n",
        "        pass  # Just check if file exists, no need to read\n",
        "except FileNotFoundError:\n",
        "    with open('students_data.csv', 'w', newline='') as csvfile:\n",
        "        writer = csv.writer(csvfile)\n",
        "        writer.writerow(['Student Name', 'Student ID', 'Subject', 'Score', 'Attendance Percentage', 'Assignment Completion'])\n",
        "\n",
        "\n",
        "while True:\n",
        "    input_data()\n",
        "    another = input(\"Do you want to add more data? (yes/no): \")\n",
        "    if another.lower() != 'yes':\n",
        "        break"
      ],
      "metadata": {
        "id": "hXKn-pwC78IM",
        "outputId": "a197e52a-555c-4b05-e4a3-b601114a0603",
        "colab": {
          "base_uri": "https://localhost:8080/"
        }
      },
      "execution_count": null,
      "outputs": [
        {
          "name": "stdout",
          "output_type": "stream",
          "text": [
            "Enter Student Name: MEEM\n",
            "Enter Student ID: STU-35456\n",
            "Enter Subject: math\n",
            "Enter Score: 89\n",
            "Enter Attendance Percentage: 70\n",
            "Enter Assignment Completion (Yes/No): yes\n",
            "Do you want to add more data? (yes/no): yes\n",
            "Enter Student Name: meem\n",
            "Enter Student ID: STU-35456\n",
            "Enter Subject: STATISTICS\n",
            "Enter Score: 60\n",
            "Enter Attendance Percentage: 60\n",
            "Enter Assignment Completion (Yes/No): YES\n",
            "Do you want to add more data? (yes/no): NO\n"
          ]
        }
      ]
    },
    {
      "cell_type": "code",
      "source": [
        "59# prompt: Use File Handling to:\n",
        "# ○ Read the CSV file.\n",
        "# ○ Write modified or updated data back to a new CSV file.\n",
        "\n",
        "import csv\n",
        "\n",
        "def modify_data():\n",
        "    # Read existing data\n",
        "    data = []\n",
        "    try:\n",
        "        with open('students_data.csv', 'r', newline='') as csvfile:\n",
        "            reader = csv.reader(csvfile)\n",
        "            for row in reader:\n",
        "                data.append(row)\n",
        "    except FileNotFoundError:\n",
        "        print(\"Error: 'students_data.csv' not found.\")\n",
        "        return\n",
        "\n",
        "    # Modify data (Example: Update Score for a specific student)\n",
        "    student_id_to_update = input(\"Enter Student ID to update score: \")\n",
        "    new_score = input(\"Enter new score: \")\n",
        "    for row in data:\n",
        "        if len(row) > 1 and row[1] == student_id_to_update:  # Check for valid row and ID\n",
        "            row[3] = new_score\n",
        "            print(f\"Updated score for Student ID {student_id_to_update}\")\n",
        "            break\n",
        "    else:\n",
        "        print(f\"Student ID {student_id_to_update} not found.\")\n",
        "\n",
        "    # Write updated data to a new CSV file\n",
        "    with open('modified_students_data.csv', 'w', newline='') as csvfile:\n",
        "        writer = csv.writer(csvfile)\n",
        "        writer.writerows(data)\n",
        "\n",
        "\n",
        "modify_data()"
      ],
      "metadata": {
        "id": "TgnCB2vUklrx",
        "outputId": "5596c869-4d79-45ed-8fbb-e1c8ffa506a2",
        "colab": {
          "base_uri": "https://localhost:8080/"
        }
      },
      "execution_count": null,
      "outputs": [
        {
          "output_type": "stream",
          "name": "stdout",
          "text": [
            "Enter Student ID to update score: 56\n",
            "Enter new score: 59\n",
            "Updated score for Student ID 56\n"
          ]
        }
      ]
    },
    {
      "cell_type": "code",
      "source": [
        "# Pandas and DataFrames:\n",
        "# ○ Analyze average, minimum, and maximum scores per student.\n",
        "# ○ Identify students with attendance < 75% or missing assignments.\n",
        "\n",
        "import pandas as pd\n",
        "\n",
        "def analyze_student_data(filepath):\n",
        "    try:\n",
        "        df = pd.read_csv(filepath)\n",
        "\n",
        "        # Analyze average, minimum, and maximum scores per student\n",
        "        score_summary = df.groupby('Student Name')['Score'].agg(['mean', 'min', 'max'])\n",
        "        print(\"Score Summary per Student:\\n\", score_summary)\n",
        "\n",
        "        # Identify students with attendance < 75% or missing assignments\n",
        "        df['Attendance Percentage'] = pd.to_numeric(df['Attendance Percentage'], errors='coerce')\n",
        "        low_attendance = df[(df['Attendance Percentage'] < 75) | (df['Assignment Completion'] == 'No')]\n",
        "        print(\"\\nStudents with low attendance or missing assignments:\\n\", low_attendance)\n",
        "\n",
        "    except FileNotFoundError:\n",
        "        print(f\"Error: File '{filepath}' not found.\")\n",
        "    except KeyError as e:\n",
        "        print(f\"Error: Column '{e}' not found in the CSV file. Please ensure the CSV has the correct header.\")\n",
        "    except pd.errors.EmptyDataError:\n",
        "        print(f\"Error: File '{filepath}' is empty.\")\n",
        "    except Exception as e:\n",
        "        print(f\"An unexpected error occurred: {e}\")\n",
        "\n",
        "\n",
        "# Example usage with 'students_data.csv' and 'modified_students_data.csv'\n",
        "analyze_student_data('students_data.csv')\n",
        "analyze_student_data('modified_students_data.csv')"
      ],
      "metadata": {
        "id": "35UmR3dfph-k",
        "outputId": "5e5ea97d-177d-404c-ef35-3776338b9ffa",
        "colab": {
          "base_uri": "https://localhost:8080/"
        }
      },
      "execution_count": null,
      "outputs": [
        {
          "output_type": "stream",
          "name": "stdout",
          "text": [
            "Score Summary per Student:\n",
            "               mean  min  max\n",
            "Student Name                \n",
            "KASHFIA       53.0   53   53\n",
            "MEEM          89.0   89   89\n",
            "MOMI          56.0   56   56\n",
            "meem          60.0   60   60\n",
            "\n",
            "Students with low attendance or missing assignments:\n",
            "   Student Name Student ID     Subject  Score  Attendance Percentage  \\\n",
            "0         MOMI         34         CSE     56                     40   \n",
            "1      KASHFIA         56     ENGLISH     53                     49   \n",
            "2         MEEM  STU-35456        math     89                     70   \n",
            "3         meem  STU-35456  STATISTICS     60                     60   \n",
            "\n",
            "  Assignment Completion  \n",
            "0                   YES  \n",
            "1                   YES  \n",
            "2                   yes  \n",
            "3                   YES  \n",
            "Score Summary per Student:\n",
            "               mean  min  max\n",
            "Student Name                \n",
            "KASHFIA       59.0   59   59\n",
            "MEEM          89.0   89   89\n",
            "MOMI          56.0   56   56\n",
            "meem          60.0   60   60\n",
            "\n",
            "Students with low attendance or missing assignments:\n",
            "   Student Name Student ID     Subject  Score  Attendance Percentage  \\\n",
            "0         MOMI         34         CSE     56                     40   \n",
            "1      KASHFIA         56     ENGLISH     59                     49   \n",
            "2         MEEM  STU-35456        math     89                     70   \n",
            "3         meem  STU-35456  STATISTICS     60                     60   \n",
            "\n",
            "  Assignment Completion  \n",
            "0                   YES  \n",
            "1                   YES  \n",
            "2                   yes  \n",
            "3                   YES  \n"
          ]
        }
      ]
    },
    {
      "cell_type": "code",
      "source": [
        "import pandas as pd\n",
        "\n",
        "def filter_failing_students():\n",
        "    # Hardcoded values for file name, subject, and passing score\n",
        "    file_name = \"students_data.csv\"\n",
        "    subject = \"math\"\n",
        "    passing_score = 85\n",
        "\n",
        "    try:\n",
        "        # Read the CSV file into a DataFrame\n",
        "        df = pd.read_csv(file_name)\n",
        "\n",
        "        # Ensure 'Score' column is numeric, coercing errors to NaN\n",
        "        df['Score'] = pd.to_numeric(df['Score'], errors='coerce')\n",
        "\n",
        "        # Filter students failing the specific subject\n",
        "        failing_students = df[(df['Subject'] == subject) & (df['Score'] < passing_score)]\n",
        "\n",
        "        # Display the results\n",
        "        if not failing_students.empty:\n",
        "            print(f\"\\nStudents failing {subject} (below {passing_score}):\\n\", failing_students)\n",
        "        else:\n",
        "            print(f\"\\nNo students found failing {subject} (below {passing_score}).\")\n",
        "\n",
        "    except FileNotFoundError:\n",
        "        print(f\"Error: File '{file_name}' not found.\")\n",
        "    except KeyError as e:\n",
        "        print(f\"Error: Column '{e}' not found in the CSV file. Please ensure the CSV has the correct header.\")\n",
        "    except pd.errors.EmptyDataError:\n",
        "        print(f\"Error: File '{file_name}' is empty.\")\n",
        "    except Exception as e:\n",
        "        print(f\"An unexpected error occurred: {e}\")\n",
        "\n",
        "# Call the function to filter students failing math with a score below 85\n",
        "filter_failing_students()\n"
      ],
      "metadata": {
        "colab": {
          "base_uri": "https://localhost:8080/"
        },
        "id": "yyc5NbFfvIo3",
        "outputId": "683775ea-de60-4c69-e0ec-7af89a6afda8"
      },
      "execution_count": null,
      "outputs": [
        {
          "output_type": "stream",
          "name": "stdout",
          "text": [
            "\n",
            "No students found failing math (below 85).\n"
          ]
        }
      ]
    },
    {
      "cell_type": "code",
      "source": [
        "import pandas as pd\n",
        "\n",
        "# Load the CSV file\n",
        "file_name = \"students_data.csv\"\n",
        "\n",
        "# Read the file into a DataFrame\n",
        "try:\n",
        "    data = pd.read_csv(file_name)\n",
        "except FileNotFoundError:\n",
        "    print(f\"File {file_name} not found!\")\n",
        "    exit()\n",
        "\n",
        "# Ensure there is a 'score' column\n",
        "if \"Score\" not in data.columns:\n",
        "    print(\"The 'score' column is missing from the dataset!\")\n",
        "    exit()\n",
        "\n",
        "# Function to convert score values to integers if they are strings\n",
        "def convert_score(value):\n",
        "    try:\n",
        "        # Convert to integer if it's a string representation of a number\n",
        "        return int(value)\n",
        "    except (ValueError, TypeError):\n",
        "        # Return the original value if conversion is not possible\n",
        "        return value\n",
        "\n",
        "# Apply the function to the 'score' column\n",
        "data[\"Score\"] = data[\"Score\"].apply(convert_score)\n",
        "\n",
        "# Check for any non-integer values remaining in the 'score' column\n",
        "non_integer_values = data[\"Score\"].apply(lambda x: not isinstance(x, int)).sum()\n",
        "\n",
        "if non_integer_values > 0:\n",
        "    print(f\"Warning: There are {non_integer_values} non-integer values in the 'score' column after processing.\")\n",
        "\n",
        "# Save the processed data to a new file\n",
        "output_file_name = \"students_data.csv\"\n",
        "data.to_csv(output_file_name, index=False)\n",
        "\n",
        "print(f\"Processing complete. The updated data has been saved to {output_file_name}.\")\n"
      ],
      "metadata": {
        "id": "uYwXNK200zOb",
        "outputId": "9b911336-9474-43cb-b0d7-82829ca4e9d7",
        "colab": {
          "base_uri": "https://localhost:8080/"
        }
      },
      "execution_count": null,
      "outputs": [
        {
          "output_type": "stream",
          "name": "stdout",
          "text": [
            "Processing complete. The updated data has been saved to students_data.csv.\n"
          ]
        }
      ]
    },
    {
      "cell_type": "code",
      "source": [
        "# prompt: Use  Matplotlib  or  Pandas Visualization  to:\n",
        "# ○  Plot a bar chart of average scores by subject.\n",
        "# ○  Display a pie chart of attendance percentage categories (e.g., <50%, 50-75%,\n",
        "# >75%).\n",
        "# ○  Create a line graph showing performance trends over time for a selected student.\n",
        "\n",
        "import pandas as pd\n",
        "import matplotlib.pyplot as plt\n",
        "\n",
        "# Load the data (replace 'modified_students_data.csv' with your actual file)\n",
        "try:\n",
        "    df = pd.read_csv('modified_students_data.csv')\n",
        "    # Convert 'Score' and 'Attendance Percentage' to numeric, handling errors\n",
        "    df['Score'] = pd.to_numeric(df['Score'], errors='coerce')\n",
        "    df['Attendance Percentage'] = pd.to_numeric(df['Attendance Percentage'], errors='coerce')\n",
        "except FileNotFoundError:\n",
        "    print(\"Error: 'modified_students_data.csv' not found.\")\n",
        "    exit()\n",
        "except pd.errors.EmptyDataError:\n",
        "    print(\"Error: 'modified_students_data.csv' is empty.\")\n",
        "    exit()\n",
        "except Exception as e:\n",
        "    print(f\"An unexpected error occurred: {e}\")\n",
        "    exit()\n",
        "\n",
        "\n",
        "# 1. Bar chart of average scores by subject\n",
        "average_scores = df.groupby('Subject')['Score'].mean()\n",
        "plt.figure(figsize=(8, 6))\n",
        "average_scores.plot(kind='bar')\n",
        "plt.title('Average Scores by Subject')\n",
        "plt.xlabel('Subject')\n",
        "plt.ylabel('Average Score')\n",
        "plt.show()\n",
        "\n",
        "# 2. Pie chart of attendance percentage categories\n",
        "attendance_bins = [0, 50, 75, 100]\n",
        "attendance_labels = ['<50%', '50-75%', '>75%']\n",
        "df['Attendance Category'] = pd.cut(df['Attendance Percentage'], bins=attendance_bins, labels=attendance_labels, right=False)\n",
        "attendance_counts = df['Attendance Category'].value_counts()\n",
        "plt.figure(figsize=(6, 6))\n",
        "plt.pie(attendance_counts, labels=attendance_counts.index, autopct='%1.1f%%', startangle=90)\n",
        "plt.title('Attendance Percentage Categories')\n",
        "plt.show()\n",
        "\n",
        "\n",
        "# 3. Line graph showing performance trends over time (assuming a 'Date' column exists)\n",
        "# If there's no date, you'll need to add one or use another identifier for time.\n",
        "if 'Date' in df.columns:\n",
        "  student_name = input(\"Enter the student name to display performance trends: \")\n",
        "\n",
        "  student_data = df[df['Student Name'] == student_name]\n",
        "  if not student_data.empty:\n",
        "      plt.figure(figsize=(10, 6))\n",
        "      plt.plot(student_data['Date'], student_data['Score'])\n",
        "      plt.xlabel('Date')\n",
        "      plt.ylabel('Score')\n",
        "      plt.title(f\"Performance Trend for {student_name}\")\n",
        "      plt.xticks(rotation=45)  # Rotate x-axis labels for better readability\n",
        "      plt.tight_layout()  # Adjust layout to prevent labels from overlapping\n",
        "      plt.show()\n",
        "  else:\n",
        "      print(f\"No data found for student: {student_name}\")\n",
        "else:\n",
        "    print(\"Error: 'Date' column not found in the DataFrame. Cannot create the line graph.\")"
      ],
      "metadata": {
        "id": "u2m5hbdmcGbW",
        "outputId": "02d92697-a4c5-4021-fd72-0f9e02c3e78b",
        "colab": {
          "base_uri": "https://localhost:8080/",
          "height": 1000
        }
      },
      "execution_count": null,
      "outputs": [
        {
          "output_type": "display_data",
          "data": {
            "text/plain": [
              "<Figure size 800x600 with 1 Axes>"
            ],
            "image/png": "[encoded data removed]"
          },
          "metadata": {}
        },
        {
          "output_type": "display_data",
          "data": {
            "text/plain": [
              "<Figure size 600x600 with 1 Axes>"
            ],
            "image/png": "[encoded data removed]"
          },
          "metadata": {}
        },
        {
          "output_type": "stream",
          "name": "stdout",
          "text": [
            "Error: 'Date' column not found in the DataFrame. Cannot create the line graph.\n"
          ]
        }
      ]
    },
    {
      "cell_type": "code",
      "source": [
        "# prompt:  Create a line graph showing Scores trends over Attendance for a selected student.\n",
        "\n",
        "import pandas as pd\n",
        "import matplotlib.pyplot as plt\n",
        "\n",
        "# Load the data (replace 'modified_students_data.csv' with your actual file)\n",
        "try:\n",
        "    df = pd.read_csv('modified_students_data.csv')\n",
        "    # Convert 'Score' and 'Attendance Percentage' to numeric, handling errors\n",
        "    df['Score'] = pd.to_numeric(df['Score'], errors='coerce')\n",
        "    df['Attendance Percentage'] = pd.to_numeric(df['Attendance Percentage'], errors='coerce')\n",
        "except FileNotFoundError:\n",
        "    print(\"Error: 'modified_students_data.csv' not found.\")\n",
        "    exit()\n",
        "except pd.errors.EmptyDataError:\n",
        "    print(\"Error: 'modified_students_data.csv' is empty.\")\n",
        "    exit()\n",
        "except Exception as e:\n",
        "    print(f\"An unexpected error occurred: {e}\")\n",
        "    exit()\n",
        "\n",
        "# ... (rest of your code)\n",
        "\n",
        "# 3. Line graph showing Scores trends over Attendance for a selected student\n",
        "Student_ID = input(\"Enter the student ID to display performance trends: \")\n",
        "Student_ID = df[df['Student ID'] == Student_ID]\n",
        "\n",
        "if not student_data.empty:\n",
        "    plt.figure(figsize=(10, 6))\n",
        "    plt.plot(student_data['Attendance Percentage'], student_data['Score'], marker='o')  # Added markers\n",
        "    plt.xlabel('Attendance Percentage')\n",
        "    plt.ylabel('Score')\n",
        "    plt.title(f\"Score Trend over Attendance for {Student_ID}\")\n",
        "    plt.grid(True)  # Added grid for better readability\n",
        "    plt.show()\n",
        "else:\n",
        "    print(f\"No data found for student: {Student_ID}\")"
      ],
      "metadata": {
        "colab": {
          "base_uri": "https://localhost:8080/",
          "height": 511
        },
        "id": "VnruT0bmMc1Q",
        "outputId": "b4a41f64-3713-4db0-9ff3-4706fe746c3d"
      },
      "execution_count": null,
      "outputs": [
        {
          "name": "stdout",
          "output_type": "stream",
          "text": [
            "Enter the student ID to display performance trends: STU-35456\n"
          ]
        },
        {
          "output_type": "display_data",
          "data": {
            "text/plain": [
              "<Figure size 1000x600 with 1 Axes>"
            ],
            "image/png": "[encoded data removed]"
          },
          "metadata": {}
        }
      ]
    },
    {
      "cell_type": "code",
      "source": [
        "# prompt: Applying Functions and Logic\n",
        "# ●  Implement  Functions  for:\n",
        "# ○  Calculating aggregate scores for each student.\n",
        "# ○  Determining grade (A/B/C/Fail) based on scoring criteria.\n",
        "# ○  Generating student performance reports in a user-friendly format.\n",
        "\n",
        "def calculate_aggregate_score(df):\n",
        "    # Assuming 'Score', 'Attendance Percentage', and 'Assignment Completion' columns exist\n",
        "    # and 'Assignment Completion' is 'Yes' or 'No'.  Adjust as needed for your data.\n",
        "    df['Assignment Points'] = df['Assignment Completion'].apply(lambda x: 10 if x == 'Yes' else 0)\n",
        "    df['Aggregate Score'] = 0.6 * df['Score'] + 0.3 * df['Attendance Percentage'] + 0.1 * df['Assignment Points']\n",
        "    return df\n",
        "\n",
        "def determine_grade(aggregate_score):\n",
        "    if aggregate_score >= 90:\n",
        "        return 'A'\n",
        "    elif aggregate_score >= 80:\n",
        "        return 'B'\n",
        "    elif aggregate_score >= 70:\n",
        "        return 'C'\n",
        "    else:\n",
        "        return 'Fail'\n",
        "\n",
        "def generate_student_report(df):\n",
        "    df = calculate_aggregate_score(df)\n",
        "    df['Grade'] = df['Aggregate Score'].apply(determine_grade)\n",
        "\n",
        "    # Generate report\n",
        "    for index, row in df.iterrows():\n",
        "        print(\"-\" * 30)\n",
        "        print(f\"Student Name: {row['Student Name']}\")\n",
        "        print(f\"Student ID: {row['Student ID']}\")\n",
        "        print(f\"Subject: {row['Subject']}\")\n",
        "        print(f\"Score: {row['Score']}\")\n",
        "        print(f\"Attendance Percentage: {row['Attendance Percentage']}%\")\n",
        "        print(f\"Assignment Completion: {row['Assignment Completion']}\")\n",
        "        print(f\"Aggregate Score: {row['Aggregate Score']:.2f}\")\n",
        "        print(f\"Grade: {row['Grade']}\")\n",
        "        print(\"-\" * 30)\n",
        "\n",
        "# Example usage: Assuming 'df' is your DataFrame from the previous code\n",
        "# Load the data (replace 'modified_students_data.csv' with your actual file)\n",
        "try:\n",
        "    df = pd.read_csv('modified_students_data.csv')\n",
        "    # Convert 'Score' and 'Attendance Percentage' to numeric, handling errors\n",
        "    df['Score'] = pd.to_numeric(df['Score'], errors='coerce')\n",
        "    df['Attendance Percentage'] = pd.to_numeric(df['Attendance Percentage'], errors='coerce')\n",
        "except FileNotFoundError:\n",
        "    print(\"Error: 'modified_students_data.csv' not found.\")\n",
        "    exit()\n",
        "except pd.errors.EmptyDataError:\n",
        "    print(\"Error: 'modified_students_data.csv' is empty.\")\n",
        "    exit()\n",
        "except Exception as e:\n",
        "    print(f\"An unexpected error occurred: {e}\")\n",
        "    exit()\n",
        "\n",
        "\n",
        "generate_student_report(df)"
      ],
      "metadata": {
        "id": "ZuE6SEDrceqp",
        "outputId": "c6c01261-67e9-4a82-de48-009a8ba4fbda",
        "colab": {
          "base_uri": "https://localhost:8080/"
        }
      },
      "execution_count": null,
      "outputs": [
        {
          "output_type": "stream",
          "name": "stdout",
          "text": [
            "------------------------------\n",
            "Student Name: MOMI\n",
            "Student ID: 34\n",
            "Subject: CSE\n",
            "Score: 56\n",
            "Attendance Percentage: 40%\n",
            "Assignment Completion: YES\n",
            "Aggregate Score: 45.60\n",
            "Grade: Fail\n",
            "------------------------------\n",
            "------------------------------\n",
            "Student Name: KASHFIA\n",
            "Student ID: 56\n",
            "Subject: ENGLISH\n",
            "Score: 59\n",
            "Attendance Percentage: 49%\n",
            "Assignment Completion: YES\n",
            "Aggregate Score: 50.10\n",
            "Grade: Fail\n",
            "------------------------------\n",
            "------------------------------\n",
            "Student Name: MEEM\n",
            "Student ID: STU-35456\n",
            "Subject: math\n",
            "Score: 89\n",
            "Attendance Percentage: 70%\n",
            "Assignment Completion: yes\n",
            "Aggregate Score: 74.40\n",
            "Grade: C\n",
            "------------------------------\n",
            "------------------------------\n",
            "Student Name: meem\n",
            "Student ID: STU-35456\n",
            "Subject: STATISTICS\n",
            "Score: 60\n",
            "Attendance Percentage: 60%\n",
            "Assignment Completion: YES\n",
            "Aggregate Score: 54.00\n",
            "Grade: Fail\n",
            "------------------------------\n"
          ]
        }
      ]
    },
    {
      "cell_type": "code",
      "source": [],
      "metadata": {
        "id": "bPzL9gC3MZ2Z"
      },
      "execution_count": null,
      "outputs": []
    },
    {
      "cell_type": "code",
      "source": [],
      "metadata": {
        "id": "Rcqk7yKi3rdt"
      },
      "execution_count": null,
      "outputs": []
    },
    {
      "cell_type": "code",
      "source": [
        "import re\n",
        "from datetime import datetime\n",
        "\n",
        "def log_execution(func):\n",
        "    \"\"\"\n",
        "    Decorator to log when a particular function is executed.\n",
        "    \"\"\"\n",
        "    def wrapper(*args, **kwargs):\n",
        "        with open(\"execution_log.txt\", \"a\") as log_file:\n",
        "            log_file.write(f\"Function '{func.__name__}' executed at {datetime.now()}\\n\")\n",
        "        return func(*args, **kwargs)\n",
        "    return wrapper\n",
        "\n",
        "# Exception Handling Example\n",
        "@log_execution\n",
        "def read_file(file_path):\n",
        "    \"\"\"\n",
        "    Reads a file and returns its contents.\n",
        "    Handles FileNotFoundError.\n",
        "    \"\"\"\n",
        "    try:\n",
        "        with open(file_path, \"r\") as file:\n",
        "            return file.read()\n",
        "    except FileNotFoundError:\n",
        "        print(\"Error: File not found.\")\n",
        "        return None\n",
        "\n",
        "@log_execution\n",
        "def divide_numbers(a, b):\n",
        "    \"\"\"\n",
        "    Divides two numbers.\n",
        "    Handles division by zero.\n",
        "    \"\"\"\n",
        "    try:\n",
        "        return a / b\n",
        "    except ZeroDivisionError:\n",
        "        print(\"Error: Division by zero is not allowed.\")\n",
        "        return None\n",
        "\n",
        "# Regular Expressions Example\n",
        "@log_execution\n",
        "def validate_student_id(student_id):\n",
        "    \"\"\"\n",
        "    Validates a student ID based on the pattern STU-12345.\n",
        "    \"\"\"\n",
        "    pattern = r\"^STU-\\d{5}$\"\n",
        "    if re.match(pattern, student_id):\n",
        "        print(\"Valid Student ID.\")\n",
        "        return True\n",
        "    else:\n",
        "        print(\"Invalid Student ID. Format should be 'STU-12345'.\")\n",
        "        return False\n",
        "\n",
        "# Testing the functions\n",
        "if __name__ == \"__main__\":\n",
        "    # Test exception handling\n",
        "    print(\"Reading file...\")\n",
        "    content = read_file(\"students_data.csv\")\n",
        "    print(\"File content:\", content)\n",
        "\n",
        "    print(\"\\nDividing numbers...\")\n",
        "    result = divide_numbers(10, 0)\n",
        "    print(\"Division result:\", result)\n",
        "\n",
        "    # Test regular expression validation\n",
        "    print(\"\\nValidating Student ID...\")\n",
        "    is_valid = validate_student_id(\"STU-12345\")\n",
        "    print(\"Is valid:\", is_valid)\n",
        "\n",
        "    is_valid = validate_student_id(\"12345-STU\")\n",
        "    print(\"Is valid:\", is_valid)\n"
      ],
      "metadata": {
        "colab": {
          "base_uri": "https://localhost:8080/"
        },
        "id": "6k1QkrpJ4rtA",
        "outputId": "53275e70-1fe0-4bba-c0e9-e03c65bea2e0"
      },
      "execution_count": null,
      "outputs": [
        {
          "output_type": "stream",
          "name": "stdout",
          "text": [
            "Reading file...\n",
            "File content: Student Name,Student ID,Subject,Score,Attendance Percentage,Assignment Completion\n",
            "MOMI,34,CSE,56,40,YES\n",
            "KASHFIA,56,ENGLISH,53,49,YES\n",
            "MEEM,STU-35456,math,89,70,yes\n",
            "meem,STU-35456,STATISTICS,60,60,YES\n",
            "\n",
            "\n",
            "Dividing numbers...\n",
            "Error: Division by zero is not allowed.\n",
            "Division result: None\n",
            "\n",
            "Validating Student ID...\n",
            "Valid Student ID.\n",
            "Is valid: True\n",
            "Invalid Student ID. Format should be 'STU-12345'.\n",
            "Is valid: False\n"
          ]
        }
      ]
    },
    {
      "cell_type": "code",
      "source": [
        "import re\n",
        "from datetime import datetime\n",
        "\n",
        "def log_execution(func):\n",
        "    \"\"\"\n",
        "    Decorator to log when a particular function is executed.\n",
        "    \"\"\"\n",
        "    def wrapper(*args, **kwargs):\n",
        "        with open(\"execution_log.txt\", \"a\") as log_file:\n",
        "            log_file.write(f\"Function '{func.__name__}' executed at {datetime.now()}\\n\")\n",
        "        return func(*args, **kwargs)\n",
        "    return wrapper\n",
        "\n",
        "# Exception Handling Example\n",
        "@log_execution\n",
        "def read_file(file_path):\n",
        "    \"\"\"\n",
        "    Reads a file and returns its contents.\n",
        "    Handles FileNotFoundError.\n",
        "    \"\"\"\n",
        "    try:\n",
        "        with open(file_path, \"r\") as file:\n",
        "            return file.read()\n",
        "    except FileNotFoundError:\n",
        "        print(\"Error: File not found.\")\n",
        "        return None\n",
        "\n",
        "@log_execution\n",
        "def divide_numbers(a, b):\n",
        "    \"\"\"\n",
        "    Divides two numbers.\n",
        "    Handles division by zero.\n",
        "    \"\"\"\n",
        "    try:\n",
        "        return a / b\n",
        "    except ZeroDivisionError:\n",
        "        print(\"Error: Division by zero is not allowed.\")\n",
        "        return None\n",
        "\n",
        "# Regular Expressions Example\n",
        "@log_execution\n",
        "def validate_student_id(student_id):\n",
        "    \"\"\"\n",
        "    Validates a student ID based on the pattern STU-12345.\n",
        "    \"\"\"\n",
        "    pattern = r\"^STU-\\d{5}$\"\n",
        "    if re.match(pattern, student_id):\n",
        "        print(\"Valid Student ID.\")\n",
        "        return True\n",
        "    else:\n",
        "        print(\"Invalid Student ID. Format should be 'STU-12345'.\")\n",
        "        return False\n",
        "\n",
        "# Testing the functions\n",
        "if __name__ == \"__main__\":\n",
        "    # Test exception handling\n",
        "    file_path = \"students_data.csv\"\n",
        "    print(\"Reading file...\")\n",
        "    content = read_file(file_path)\n",
        "    print(\"File content:\", content)\n",
        "\n",
        "    print(\"\\nDividing numbers...\")\n",
        "    result = divide_numbers(10, 0)\n",
        "    print(\"Division result:\", result)\n",
        "\n",
        "    # Test regular expression validation\n",
        "    print(\"\\nValidating Student ID...\")\n",
        "    is_valid = validate_student_id(\"STU-12345\")\n",
        "    print(\"Is valid:\", is_valid)\n",
        "\n",
        "    is_valid = validate_student_id(\"12345-STU\")\n",
        "    print(\"Is valid:\", is_valid)\n"
      ],
      "metadata": {
        "colab": {
          "base_uri": "https://localhost:8080/"
        },
        "id": "FvGToJMo57K0",
        "outputId": "3474c220-4817-4d34-92e2-8bc60840eeb7"
      },
      "execution_count": null,
      "outputs": [
        {
          "output_type": "stream",
          "name": "stdout",
          "text": [
            "Reading file...\n",
            "File content: Student Name,Student ID,Subject,Score,Attendance Percentage,Assignment Completion\n",
            "mitu,stu-034,ststistics,40,79,yes\n",
            "anonna,89,real analysis,89,90,yes\n",
            "mitu,stu-034,real analysis,78,yes,no\n",
            "meem,STU-23445,math,40,80,no\n",
            "\n",
            "\n",
            "Dividing numbers...\n",
            "Error: Division by zero is not allowed.\n",
            "Division result: None\n",
            "\n",
            "Validating Student ID...\n",
            "Valid Student ID.\n",
            "Is valid: True\n",
            "Invalid Student ID. Format should be 'STU-12345'.\n",
            "Is valid: False\n"
          ]
        }
      ]
    },
    {
      "cell_type": "code",
      "source": [
        "# prompt: Interactive Console Input/Output\n",
        "# ●  Allow the user to:\n",
        "# ○  Add a new student’s data via console inputs.\n",
        "# ○  Search for a student by name or ID.\n",
        "# ○  Update a student's score or attendance.\n",
        "\n",
        "def search_student():\n",
        "    search_term = input(\"Enter student name or ID to search: \")\n",
        "    try:\n",
        "        df = pd.read_csv('modified_students_data.csv')\n",
        "        # Search by name or ID\n",
        "        results = df[\n",
        "            (df['Student Name'].str.contains(search_term, case=False)) | (df['Student ID'] == search_term)\n",
        "        ]\n",
        "        if not results.empty:\n",
        "            print(results)\n",
        "        else:\n",
        "            print(f\"No student found with name or ID containing '{search_term}'.\")\n",
        "    except FileNotFoundError:\n",
        "        print(\"Error: 'modified_students_data.csv' not found.\")\n",
        "    except Exception as e:\n",
        "        print(f\"An unexpected error occurred: {e}\")\n",
        "\n",
        "def update_student():\n",
        "    student_id_to_update = input(\"Enter Student ID to update: \")\n",
        "    try:\n",
        "      df = pd.read_csv('modified_students_data.csv')\n",
        "      if student_id_to_update in df['Student ID'].values:\n",
        "          update_field = input(\"Enter field to update (Score, Attendance Percentage, Assignment Completion): \")\n",
        "          new_value = input(f\"Enter new {update_field}: \")\n",
        "\n",
        "          if update_field == \"Score\":\n",
        "              try:\n",
        "                  new_value = int(new_value) # Convert to integer if score\n",
        "              except ValueError:\n",
        "                  print(\"Invalid score. Please enter an integer.\")\n",
        "                  return\n",
        "          # Update the DataFrame\n",
        "          df.loc[df['Student ID'] == student_id_to_update, update_field] = new_value\n",
        "          # Save the changes back to the CSV file\n",
        "          df.to_csv('modified_students_data.csv', index=False)\n",
        "          print(f\"Updated {update_field} for Student ID {student_id_to_update}\")\n",
        "      else:\n",
        "          print(f\"Student ID '{student_id_to_update}' not found.\")\n",
        "    except FileNotFoundError:\n",
        "        print(\"Error: 'modified_students_data.csv' not found.\")\n",
        "    except Exception as e:\n",
        "        print(f\"An unexpected error occurred: {e}\")\n",
        "\n",
        "while True:\n",
        "    print(\"\\nStudent Management System\")\n",
        "    print(\"1. Add Student\")\n",
        "    print(\"2. Search Student\")\n",
        "    print(\"3. Update Student\")\n",
        "    print(\"4. Exit\")\n",
        "\n",
        "    choice = input(\"Enter your choice: \")\n",
        "\n",
        "    if choice == '1':\n",
        "        input_data()\n",
        "    elif choice == '2':\n",
        "        search_student()\n",
        "    elif choice == '3':\n",
        "        update_student()\n",
        "    elif choice == '4':\n",
        "        break\n",
        "    else:\n",
        "        print(\"Invalid choice. Please try again.\")"
      ],
      "metadata": {
        "id": "KyeF5YkFdR9u",
        "outputId": "e702fe0b-eb1f-4754-c5f1-a01910bcfe97",
        "colab": {
          "base_uri": "https://localhost:8080/"
        }
      },
      "execution_count": null,
      "outputs": [
        {
          "name": "stdout",
          "output_type": "stream",
          "text": [
            "\n",
            "Student Management System\n",
            "1. Add Student\n",
            "2. Search Student\n",
            "3. Update Student\n",
            "4. Exit\n",
            "Enter your choice: 1\n",
            "Enter Student Name: MOU\n",
            "Enter Student ID: STU-13436\n",
            "Enter Subject: STAT\n",
            "Enter Score: 67\n",
            "Enter Attendance Percentage: 89\n",
            "Enter Assignment Completion (Yes/No): YES\n",
            "\n",
            "Student Management System\n",
            "1. Add Student\n",
            "2. Search Student\n",
            "3. Update Student\n",
            "4. Exit\n",
            "Enter your choice: 2\n",
            "Enter student name or ID to search: 56\n",
            "  Student Name Student ID  Subject  Score  Attendance Percentage  \\\n",
            "1      KASHFIA         56  ENGLISH     59                     49   \n",
            "\n",
            "  Assignment Completion  \n",
            "1                   YES  \n",
            "\n",
            "Student Management System\n",
            "1. Add Student\n",
            "2. Search Student\n",
            "3. Update Student\n",
            "4. Exit\n",
            "Enter your choice: 4\n"
          ]
        }
      ]
    }
  ]
}