{
  "nbformat": 4,
  "nbformat_minor": 0,
  "metadata": {
    "colab": {
      "provenance": [],
      "toc_visible": true,
      "include_colab_link": true
    },
    "kernelspec": {
      "name": "python3",
      "display_name": "Python 3"
    },
    "language_info": {
      "name": "python"
    }
  },
  "cells": [
    {
      "cell_type": "markdown",
      "metadata": {
        "id": "view-in-github",
        "colab_type": "text"
      },
      "source": [
        "<a href=\"https://colab.research.google.com/github/FATEMA-MITU-11/edge-project/blob/main/edge_project.ipynb\" target=\"_parent\"><img src=\"https://colab.research.google.com/assets/colab-badge.svg\" alt=\"Open In Colab\"/></a>"
      ]
    },
    {
      "cell_type": "code",
      "source": [
        "# prompt: create a csv file with Student Name, Student ID\n",
        "# ○ Subject, Score, Attendance Percentage\n",
        "# ○ Assignment Completion (Yes/No)\n",
        "\n",
        "import csv\n",
        "\n",
        "data = [\n",
        "    ['Student Name', 'Student ID', 'Subject', 'Score', 'Attendance Percentage', 'Assignment Completion'],\n",
        "]\n",
        "\n",
        "with open('students_data.csv', 'w', newline='') as csvfile:\n",
        "    writer = csv.writer(csvfile)\n",
        "    writer.writerows(data)\n"
      ],
      "metadata": {
        "id": "7Y5cTvUuhGhU"
      },
      "execution_count": 1,
      "outputs": []
    },
    {
      "cell_type": "code",
      "source": [
        "\n",
        "import csv\n",
        "\n",
        "def input_data():\n",
        "    student_name = input(\"Enter Student Name: \")\n",
        "    student_id = input(\"Enter Student ID: \")\n",
        "    subject = input(\"Enter Subject: \")\n",
        "    score = input(\"Enter Score: \")\n",
        "    attendance = input(\"Enter Attendance Percentage: \")\n",
        "    assignment_completion = input(\"Enter Assignment Completion (Yes/No): \")\n",
        "\n",
        "    data = [student_name, student_id, subject, score, attendance, assignment_completion]\n",
        "\n",
        "    with open('students_data.csv', 'a', newline='') as csvfile:\n",
        "        writer = csv.writer(csvfile)\n",
        "        writer.writerow(data)\n",
        "\n",
        "input_data()"
      ],
      "metadata": {
        "id": "V1eL1jFXoF3u",
        "outputId": "675e30ba-3d39-4af9-8edc-dcd8838402b9",
        "colab": {
          "base_uri": "https://localhost:8080/"
        }
      },
      "execution_count": 4,
      "outputs": [
        {
          "name": "stdout",
          "output_type": "stream",
          "text": [
            "Enter Student Name: monami\n",
            "Enter Student ID: 3456\n",
            "Enter Subject: physics\n",
            "Enter Score: 70\n",
            "Enter Attendance Percentage: 90\n",
            "Enter Assignment Completion (Yes/No): no\n"
          ]
        }
      ]
    },
    {
      "cell_type": "code",
      "source": [
        "# prompt: Use File Handling to:\n",
        "# ○ Read the CSV file.\n",
        "# ○ Write modified or updated data back to a new CSV file.\n",
        "\n",
        "import csv\n",
        "\n",
        "def modify_data():\n",
        "    # Read existing data\n",
        "    data = []\n",
        "    try:\n",
        "        with open('students_data.csv', 'r', newline='') as csvfile:\n",
        "            reader = csv.reader(csvfile)\n",
        "            for row in reader:\n",
        "                data.append(row)\n",
        "    except FileNotFoundError:\n",
        "        print(\"Error: 'students_data.csv' not found.\")\n",
        "        return\n",
        "\n",
        "    # Modify data (Example: Update Score for a specific student)\n",
        "    student_id_to_update = input(\"Enter Student ID to update score: \")\n",
        "    new_score = input(\"Enter new score: \")\n",
        "    for row in data:\n",
        "        if len(row) > 1 and row[1] == student_id_to_update:  # Check for valid row and ID\n",
        "            row[3] = new_score\n",
        "            print(f\"Updated score for Student ID {student_id_to_update}\")\n",
        "            break\n",
        "    else:\n",
        "        print(f\"Student ID {student_id_to_update} not found.\")\n",
        "\n",
        "    # Write updated data to a new CSV file\n",
        "    with open('modified_students_data.csv', 'w', newline='') as csvfile:\n",
        "        writer = csv.writer(csvfile)\n",
        "        writer.writerows(data)\n",
        "\n",
        "\n",
        "modify_data()"
      ],
      "metadata": {
        "id": "TgnCB2vUklrx",
        "outputId": "9a4ba9dc-5598-4fe2-bdfd-07e826930a16",
        "colab": {
          "base_uri": "https://localhost:8080/"
        }
      },
      "execution_count": 6,
      "outputs": [
        {
          "output_type": "stream",
          "name": "stdout",
          "text": [
            "Enter Student ID to update score: 456\n",
            "Enter new score: 67\n",
            "Student ID 456 not found.\n"
          ]
        }
      ]
    },
    {
      "cell_type": "code",
      "source": [],
      "metadata": {
        "id": "35UmR3dfph-k"
      },
      "execution_count": null,
      "outputs": []
    },
    {
      "cell_type": "code",
      "source": [
        "import csv\n",
        "import pandas as pd\n",
        "\n",
        "# Function to add a new student's data\n",
        "def add_student():\n",
        "    name = input(\"Enter student name: \")\n",
        "    student_id = input(\"Enter student ID: \")\n",
        "    subject = input(\"Enter subject: \")\n",
        "    score = int(input(\"Enter score: \"))\n",
        "    attendance = int(input(\"Enter attendance percentage: \"))\n",
        "    assignment = input(\"Assignment completion (Yes/No): \")\n",
        "\n",
        "    new_student = {\"name\": name, \"id\": student_id, \"subject\": subject, \"score\": score, \"attendance\": attendance, \"assignment\": assignment}\n",
        "    with open('students_performance.csv', mode='a', newline='') as file:\n",
        "        writer = csv.DictWriter(file, fieldnames=[\"name\", \"id\", \"subject\", \"score\", \"attendance\", \"assignment\"])\n",
        "        writer.writerow(new_student)\n",
        "\n",
        "# Function to search for a student by name or ID\n",
        "def search_student():\n",
        "    search_term = input(\"Enter student name or ID: \")\n",
        "    df = pd.read_csv('students_performance.csv')\n",
        "    result = df[(df['name'] == search_term) | (df['id'] == search_term)]\n",
        "    if not result.empty:\n",
        "        print(\"Student found: \")\n",
        "        print(result)\n",
        "    else:\n",
        "        print(\"Student not found!\")\n",
        "\n",
        "# Function to update student's score or attendance\n",
        "def update_student():\n",
        "    student_id = input(\"Enter student ID to update: \")\n",
        "    df = pd.read_csv('students_performance.csv')\n",
        "    student = df[df['id'] == student_id]\n",
        "    if student.empty:\n",
        "        print(\"Student not found!\")\n",
        "    else:\n",
        "        new_score = int(input(f\"Enter new score for {student.iloc[0]['name']}: \"))\n",
        "        df.loc[df['id'] == student_id, 'score'] = new_score\n",
        "        df.to_csv('students_performance.csv', index=False)\n",
        "        print(f\"Updated score for {student.iloc[0]['name']}.\")\n",
        "\n",
        "# Main function to run the menu\n",
        "def main():\n",
        "    while True:\n",
        "        print(\"\\nMenu:\")\n",
        "        print(\"1. Add a new student\")\n",
        "        print(\"2. Search for a student\")\n",
        "        print(\"3. Update a student's score\")\n",
        "        print(\"4. Exit\")\n",
        "\n",
        "        choice = input(\"Enter your choice: \")\n",
        "\n",
        "        if choice == '1':\n",
        "            add_student()\n",
        "        elif choice == '2':\n",
        "            search_student()\n",
        "        elif choice == '3':\n",
        "            update_student()\n",
        "        elif choice == '4':\n",
        "            print(\"Exiting...\")\n",
        "            break\n",
        "        else:\n",
        "            print(\"Invalid choice, please try again.\")\n",
        "\n",
        "if __name__ == \"__main__\":\n",
        "    main()\n"
      ],
      "metadata": {
        "id": "t9yPOfm0ph_e",
        "outputId": "6768a985-f98b-4828-adc2-aac36cfb77b9",
        "colab": {
          "base_uri": "https://localhost:8080/"
        }
      },
      "execution_count": null,
      "outputs": [
        {
          "output_type": "stream",
          "name": "stdout",
          "text": [
            "\n",
            "Menu:\n",
            "1. Add a new student\n",
            "2. Search for a student\n",
            "3. Update a student's score\n",
            "4. Exit\n",
            "Enter your choice: 2\n",
            "Enter student name or ID: 347\n",
            "Student not found!\n",
            "\n",
            "Menu:\n",
            "1. Add a new student\n",
            "2. Search for a student\n",
            "3. Update a student's score\n",
            "4. Exit\n",
            "Enter your choice: 2\n",
            "Enter student name or ID: meem\n",
            "Student not found!\n",
            "\n",
            "Menu:\n",
            "1. Add a new student\n",
            "2. Search for a student\n",
            "3. Update a student's score\n",
            "4. Exit\n"
          ]
        }
      ]
    }
  ]
}