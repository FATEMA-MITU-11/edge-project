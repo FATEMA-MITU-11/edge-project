{
  "nbformat": 4,
  "nbformat_minor": 0,
  "metadata": {
    "colab": {
      "provenance": [],
      "include_colab_link": true
    },
    "kernelspec": {
      "name": "python3",
      "display_name": "Python 3"
    },
    "language_info": {
      "name": "python"
    }
  },
  "cells": [
    {
      "cell_type": "markdown",
      "metadata": {
        "id": "view-in-github",
        "colab_type": "text"
      },
      "source": [
        "<a href=\"https://colab.research.google.com/github/FATEMA-MITU-11/edge-project/blob/main/edge_project.ipynb\" target=\"_parent\"><img src=\"https://colab.research.google.com/assets/colab-badge.svg\" alt=\"Open In Colab\"/></a>"
      ]
    },
    {
      "cell_type": "markdown",
      "source": [
        "1. data collection and storage"
      ],
      "metadata": {
        "id": "OXBW7H84guZl"
      }
    },
    {
      "cell_type": "code",
      "source": [
        "# create a csv file with Student Name, Student ID\n",
        "# Subject, Score, Attendance Percentage\n",
        "# Assignment Completion (Yes/No)\n",
        "\n",
        "import csv\n",
        "\n",
        "data = [\n",
        "    ['Student Name', 'Student ID', 'Subject', 'Score', 'Attendance Percentage', 'Assignment Completion'],\n",
        "]\n",
        "\n",
        "with open('students_data.csv', 'w', newline='') as csvfile:\n",
        "    writer = csv.writer(csvfile)\n",
        "    writer.writerows(data)\n"
      ],
      "metadata": {
        "id": "7Y5cTvUuhGhU"
      },
      "execution_count": 1,
      "outputs": []
    },
    {
      "cell_type": "code",
      "source": [
        "\n",
        "import csv\n",
        "\n",
        "def input_data():\n",
        "    student_name = input(\"Enter Student Name: \")\n",
        "    student_id = input(\"Enter Student ID: \")\n",
        "    subject = input(\"Enter Subject: \")\n",
        "    score = input(\"Enter Score: \")\n",
        "    attendance = input(\"Enter Attendance Percentage: \")\n",
        "    assignment_completion = input(\"Enter Assignment Completion (Yes/No): \")\n",
        "\n",
        "    data = [student_name, student_id, subject, score, attendance, assignment_completion]\n",
        "\n",
        "    with open('students_data.csv', 'a', newline='') as csvfile:\n",
        "        writer = csv.writer(csvfile)\n",
        "        writer.writerow(data)\n",
        "input_data()\n"
      ],
      "metadata": {
        "id": "V1eL1jFXoF3u",
        "colab": {
          "base_uri": "https://localhost:8080/"
        },
        "outputId": "a11f3968-b9ed-4c38-ae9e-c5d73935c87d"
      },
      "execution_count": 2,
      "outputs": [
        {
          "name": "stdout",
          "output_type": "stream",
          "text": [
            "Enter Student Name: mitu\n",
            "Enter Student ID: STU-34456\n",
            "Enter Subject: STATISTICS\n",
            "Enter Score: 80\n",
            "Enter Attendance Percentage: 90\n",
            "Enter Assignment Completion (Yes/No): YES\n"
          ]
        }
      ]
    },
    {
      "cell_type": "markdown",
      "source": [
        "ADD THE DATA AND SAVE"
      ],
      "metadata": {
        "id": "po9IqfpthfA_"
      }
    },
    {
      "cell_type": "code",
      "source": [
        "# save the information ofstudent_name, student_id, subject, score, attendance, assignment_completion information which is inputed by users\n",
        "\n",
        "import csv\n",
        "\n",
        "def input_data():\n",
        "    student_name = input(\"Enter Student Name: \")\n",
        "    student_id = input(\"Enter Student ID: \")\n",
        "    subject = input(\"Enter Subject: \")\n",
        "    score = input(\"Enter Score: \")\n",
        "    attendance = input(\"Enter Attendance Percentage: \")\n",
        "    assignment_completion = input(\"Enter Assignment Completion (Yes/No): \")\n",
        "\n",
        "    data = [student_name, student_id, subject, score, attendance, assignment_completion]\n",
        "\n",
        "    with open('students_data.csv', 'a', newline='') as csvfile:\n",
        "        writer = csv.writer(csvfile)\n",
        "        writer.writerow(data)\n",
        "\n",
        "# Check if the file exists, if not create it with header\n",
        "try:\n",
        "    with open('students_data.csv', 'r') as csvfile:\n",
        "        pass  # Just check if file exists, no need to read\n",
        "except FileNotFoundError:\n",
        "    with open('students_data.csv', 'w', newline='') as csvfile:\n",
        "        writer = csv.writer(csvfile)\n",
        "        writer.writerow(['Student Name', 'Student ID', 'Subject', 'Score', 'Attendance Percentage', 'Assignment Completion'])\n",
        "\n",
        "\n",
        "while True:\n",
        "    input_data()\n",
        "    another = input(\"Do you want to add more data? (yes/no): \")\n",
        "    if another.lower() != 'yes':\n",
        "        break"
      ],
      "metadata": {
        "id": "hXKn-pwC78IM",
        "outputId": "279bc166-d124-474f-9c83-e8f30cac9096",
        "colab": {
          "base_uri": "https://localhost:8080/"
        }
      },
      "execution_count": 3,
      "outputs": [
        {
          "name": "stdout",
          "output_type": "stream",
          "text": [
            "Enter Student Name: mitu\n",
            "Enter Student ID: STU-34456\n",
            "Enter Subject: math\n",
            "Enter Score: 65\n",
            "Enter Attendance Percentage: 70\n",
            "Enter Assignment Completion (Yes/No): no\n",
            "Do you want to add more data? (yes/no): yes\n",
            "Enter Student Name: meem\n",
            "Enter Student ID: 456\n",
            "Enter Subject: bmb\n",
            "Enter Score: 59\n",
            "Enter Attendance Percentage: 60\n",
            "Enter Assignment Completion (Yes/No): yes\n",
            "Do you want to add more data? (yes/no): yes\n",
            "Enter Student Name: monami\n",
            "Enter Student ID: STU-23345\n",
            "Enter Subject: math\n",
            "Enter Score: 86\n",
            "Enter Attendance Percentage: 40\n",
            "Enter Assignment Completion (Yes/No): yes\n",
            "Do you want to add more data? (yes/no): no\n"
          ]
        }
      ]
    },
    {
      "cell_type": "markdown",
      "source": [
        "2. basic data handling\n"
      ],
      "metadata": {
        "id": "qr2LZxIQioL_"
      }
    },
    {
      "cell_type": "code",
      "source": [
        "# Use File Handling to:\n",
        "# Read the CSV file.\n",
        "# Write modified or updated data back to a new CSV file.\n",
        "\n",
        "import csv\n",
        "\n",
        "def modify_data():\n",
        "    # Read existing data\n",
        "    data = []\n",
        "    try:\n",
        "        with open('students_data.csv', 'r', newline='') as csvfile:\n",
        "            reader = csv.reader(csvfile)\n",
        "            for row in reader:\n",
        "                data.append(row)\n",
        "    except FileNotFoundError:\n",
        "        print(\"Error: 'students_data.csv' not found.\")\n",
        "        return\n",
        "\n",
        "    # Modify data (Example: Update Score for a specific student)\n",
        "    student_id_to_update = input(\"Enter Student ID to update score: \")\n",
        "    new_score = input(\"Enter new score: \")\n",
        "    for row in data:\n",
        "        if len(row) > 1 and row[1] == student_id_to_update:  # Check for valid row and ID\n",
        "            row[3] = new_score\n",
        "            print(f\"Updated score for Student ID {student_id_to_update}\")\n",
        "            break\n",
        "    else:\n",
        "        print(f\"Student ID {student_id_to_update} not found.\")\n",
        "\n",
        "    # Write updated data to a new CSV file\n",
        "    with open('modified_students_data.csv', 'w', newline='') as csvfile:\n",
        "        writer = csv.writer(csvfile)\n",
        "        writer.writerows(data)\n",
        "\n",
        "\n",
        "modify_data()"
      ],
      "metadata": {
        "id": "TgnCB2vUklrx",
        "outputId": "9f0db6a8-9127-48e1-ee9e-310f001eddb1",
        "colab": {
          "base_uri": "https://localhost:8080/"
        }
      },
      "execution_count": 4,
      "outputs": [
        {
          "output_type": "stream",
          "name": "stdout",
          "text": [
            "Enter Student ID to update score: 456\n",
            "Enter new score: 58\n",
            "Updated score for Student ID 456\n"
          ]
        }
      ]
    },
    {
      "cell_type": "markdown",
      "source": [
        "3. data analysis and manupulation\n",
        " pandas and dataframe"
      ],
      "metadata": {
        "id": "qo64ZwMUi1kd"
      }
    },
    {
      "cell_type": "code",
      "source": [
        "# Pandas and DataFrames:\n",
        "#  Analyze average, minimum, and maximum scores per student.\n",
        "# Identify students with attendance < 75% or missing assignments.\n",
        "\n",
        "import pandas as pd\n",
        "\n",
        "def analyze_student_data(filepath):\n",
        "    try:\n",
        "        df = pd.read_csv(filepath)\n",
        "\n",
        "        # Analyze average, minimum, and maximum scores per student\n",
        "        score_summary = df.groupby('Student Name')['Score'].agg(['mean', 'min', 'max'])\n",
        "        print(\"Score Summary per Student:\\n\", score_summary)\n",
        "\n",
        "        # Identify students with attendance < 75% or missing assignments\n",
        "        df['Attendance Percentage'] = pd.to_numeric(df['Attendance Percentage'], errors='coerce')\n",
        "        low_attendance = df[(df['Attendance Percentage'] < 75) | (df['Assignment Completion'] == 'No')]\n",
        "        print(\"\\nStudents with low attendance or missing assignments:\\n\", low_attendance)\n",
        "\n",
        "    except FileNotFoundError:\n",
        "        print(f\"Error: File '{filepath}' not found.\")\n",
        "    except KeyError as e:\n",
        "        print(f\"Error: Column '{e}' not found in the CSV file. Please ensure the CSV has the correct header.\")\n",
        "    except pd.errors.EmptyDataError:\n",
        "        print(f\"Error: File '{filepath}' is empty.\")\n",
        "    except Exception as e:\n",
        "        print(f\"An unexpected error occurred: {e}\")\n",
        "\n",
        "\n",
        "# Example usage with 'students_data.csv' and 'modified_students_data.csv'\n",
        "analyze_student_data('students_data.csv')\n",
        "analyze_student_data('modified_students_data.csv')"
      ],
      "metadata": {
        "id": "35UmR3dfph-k",
        "outputId": "d5b25f71-2a41-4d72-dad4-ac463ca7eb78",
        "colab": {
          "base_uri": "https://localhost:8080/"
        }
      },
      "execution_count": 7,
      "outputs": [
        {
          "output_type": "stream",
          "name": "stdout",
          "text": [
            "Score Summary per Student:\n",
            "               mean  min  max\n",
            "Student Name                \n",
            "meem          59.0   59   59\n",
            "mitu          72.5   65   80\n",
            "monami        86.0   86   86\n",
            "\n",
            "Students with low attendance or missing assignments:\n",
            "   Student Name Student ID Subject  Score  Attendance Percentage  \\\n",
            "1         mitu  STU-34456    math     65                     70   \n",
            "2         meem        456     bmb     59                     60   \n",
            "3       monami  STU-23345    math     86                     40   \n",
            "\n",
            "  Assignment Completion  \n",
            "1                    no  \n",
            "2                   yes  \n",
            "3                   yes  \n",
            "Score Summary per Student:\n",
            "               mean  min  max\n",
            "Student Name                \n",
            "meem          58.0   58   58\n",
            "mitu          72.5   65   80\n",
            "monami        86.0   86   86\n",
            "\n",
            "Students with low attendance or missing assignments:\n",
            "   Student Name Student ID Subject  Score  Attendance Percentage  \\\n",
            "1         mitu  STU-34456    math     65                     70   \n",
            "2         meem        456     bmb     58                     60   \n",
            "3       monami  STU-23345    math     86                     40   \n",
            "\n",
            "  Assignment Completion  \n",
            "1                    no  \n",
            "2                   yes  \n",
            "3                   yes  \n"
          ]
        }
      ]
    },
    {
      "cell_type": "markdown",
      "source": [
        "boolean indexing\n",
        "student failing in a specific subject"
      ],
      "metadata": {
        "id": "uNBsPyH8jsFq"
      }
    },
    {
      "cell_type": "code",
      "source": [
        "import pandas as pd\n",
        "\n",
        "def filter_failing_students():\n",
        "    # Hardcoded values for file name, subject, and passing score\n",
        "    file_name = \"students_data.csv\"\n",
        "    subject = \"math\"\n",
        "    passing_score = 85\n",
        "\n",
        "    try:\n",
        "        # Read the CSV file into a DataFrame\n",
        "        df = pd.read_csv(file_name)\n",
        "\n",
        "        # Ensure 'Score' column is numeric, coercing errors to NaN\n",
        "        df['Score'] = pd.to_numeric(df['Score'], errors='coerce')\n",
        "\n",
        "        # Filter students failing the specific subject\n",
        "        failing_students = df[(df['Subject'] == subject) & (df['Score'] < passing_score)]\n",
        "\n",
        "        # Display the results\n",
        "        if not failing_students.empty:\n",
        "            print(f\"\\nStudents failing {subject} (below {passing_score}):\\n\", failing_students)\n",
        "        else:\n",
        "            print(f\"\\nNo students found failing {subject} (below {passing_score}).\")\n",
        "\n",
        "    except FileNotFoundError:\n",
        "        print(f\"Error: File '{file_name}' not found.\")\n",
        "    except KeyError as e:\n",
        "        print(f\"Error: Column '{e}' not found in the CSV file. Please ensure the CSV has the correct header.\")\n",
        "    except pd.errors.EmptyDataError:\n",
        "        print(f\"Error: File '{file_name}' is empty.\")\n",
        "    except Exception as e:\n",
        "        print(f\"An unexpected error occurred: {e}\")\n",
        "\n",
        "# Call the function to filter students failing math with a score below 85\n",
        "filter_failing_students()\n"
      ],
      "metadata": {
        "colab": {
          "base_uri": "https://localhost:8080/"
        },
        "id": "yyc5NbFfvIo3",
        "outputId": "39d68307-a5a5-4608-a9a9-867b0e90c56e"
      },
      "execution_count": 8,
      "outputs": [
        {
          "output_type": "stream",
          "name": "stdout",
          "text": [
            "\n",
            "Students failing math (below 85):\n",
            "   Student Name Student ID Subject  Score  Attendance Percentage  \\\n",
            "1         mitu  STU-34456    math     65                     70   \n",
            "\n",
            "  Assignment Completion  \n",
            "1                    no  \n"
          ]
        }
      ]
    },
    {
      "cell_type": "markdown",
      "source": [
        "data type conversion"
      ],
      "metadata": {
        "id": "2vM0imNjkAv_"
      }
    },
    {
      "cell_type": "code",
      "source": [
        "import pandas as pd\n",
        "\n",
        "# Load the CSV file\n",
        "file_name = \"students_data.csv\"\n",
        "\n",
        "# Read the file into a DataFrame\n",
        "try:\n",
        "    data = pd.read_csv(file_name)\n",
        "except FileNotFoundError:\n",
        "    print(f\"File {file_name} not found!\")\n",
        "    exit()\n",
        "\n",
        "# Ensure there is a 'score' column\n",
        "if \"Score\" not in data.columns:\n",
        "    print(\"The 'score' column is missing from the dataset!\")\n",
        "    exit()\n",
        "\n",
        "# Function to convert score values to integers if they are strings\n",
        "def convert_score(value):\n",
        "    try:\n",
        "        # Convert to integer if it's a string representation of a number\n",
        "        return int(value)\n",
        "    except (ValueError, TypeError):\n",
        "        # Return the original value if conversion is not possible\n",
        "        return value\n",
        "\n",
        "# Apply the function to the 'score' column\n",
        "data[\"Score\"] = data[\"Score\"].apply(convert_score)\n",
        "\n",
        "# Check for any non-integer values remaining in the 'score' column\n",
        "non_integer_values = data[\"Score\"].apply(lambda x: not isinstance(x, int)).sum()\n",
        "\n",
        "if non_integer_values > 0:\n",
        "    print(f\"Warning: There are {non_integer_values} non-integer values in the 'score' column after processing.\")\n",
        "\n",
        "# Save the processed data to a new file\n",
        "output_file_name = \"students_data.csv\"\n",
        "data.to_csv(output_file_name, index=False)\n",
        "\n",
        "print(f\"Processing complete. The updated data has been saved to {output_file_name}.\")\n"
      ],
      "metadata": {
        "id": "uYwXNK200zOb",
        "outputId": "3816f35a-8784-4c6e-fbc2-1dd3d61af97d",
        "colab": {
          "base_uri": "https://localhost:8080/"
        }
      },
      "execution_count": 10,
      "outputs": [
        {
          "output_type": "stream",
          "name": "stdout",
          "text": [
            "Processing complete. The updated data has been saved to students_data.csv.\n"
          ]
        }
      ]
    },
    {
      "cell_type": "markdown",
      "source": [
        "4.visualization"
      ],
      "metadata": {
        "id": "_HLO653lkOEC"
      }
    },
    {
      "cell_type": "code",
      "source": [
        "#  Use  Matplotlib  or  Pandas Visualization  to:\n",
        "#   Plot a bar chart of average scores by subject.\n",
        "#  Display a pie chart of attendance percentage categories (e.g., <50%, 50-75%,\n",
        "# >75%).\n",
        "#  Create a line graph showing performance trends over time for a selected student.\n",
        "\n",
        "import pandas as pd\n",
        "import matplotlib.pyplot as plt\n",
        "\n",
        "# Load the data (replace 'modified_students_data.csv' with your actual file)\n",
        "try:\n",
        "    df = pd.read_csv('modified_students_data.csv')\n",
        "    # Convert 'Score' and 'Attendance Percentage' to numeric, handling errors\n",
        "    df['Score'] = pd.to_numeric(df['Score'], errors='coerce')\n",
        "    df['Attendance Percentage'] = pd.to_numeric(df['Attendance Percentage'], errors='coerce')\n",
        "except FileNotFoundError:\n",
        "    print(\"Error: 'modified_students_data.csv' not found.\")\n",
        "    exit()\n",
        "except pd.errors.EmptyDataError:\n",
        "    print(\"Error: 'modified_students_data.csv' is empty.\")\n",
        "    exit()\n",
        "except Exception as e:\n",
        "    print(f\"An unexpected error occurred: {e}\")\n",
        "    exit()\n",
        "\n",
        "\n",
        "# 1. Bar chart of average scores by subject\n",
        "average_scores = df.groupby('Subject')['Score'].mean()\n",
        "plt.figure(figsize=(8, 6))\n",
        "average_scores.plot(kind='bar')\n",
        "plt.title('Average Scores by Subject')\n",
        "plt.xlabel('Subject')\n",
        "plt.ylabel('Average Score')\n",
        "plt.show()\n",
        "\n",
        "# 2. Pie chart of attendance percentage categories\n",
        "attendance_bins = [0, 50, 75, 100]\n",
        "attendance_labels = ['<50%', '50-75%', '>75%']\n",
        "df['Attendance Category'] = pd.cut(df['Attendance Percentage'], bins=attendance_bins, labels=attendance_labels, right=False)\n",
        "attendance_counts = df['Attendance Category'].value_counts()\n",
        "plt.figure(figsize=(6, 6))\n",
        "plt.pie(attendance_counts, labels=attendance_counts.index, autopct='%1.1f%%', startangle=90)\n",
        "plt.title('Attendance Percentage Categories')\n",
        "plt.show()\n",
        "\n",
        "\n",
        "# 3. Line graph showing performance trends over time (assuming a 'Date' column exists)\n",
        "# If there's no date, you'll need to add one or use another identifier for time.\n",
        "if 'Date' in df.columns:\n",
        "  student_name = input(\"Enter the student name to display performance trends: \")\n",
        "\n",
        "  student_data = df[df['Student Name'] == student_name]\n",
        "  if not student_data.empty:\n",
        "      plt.figure(figsize=(10, 6))\n",
        "      plt.plot(student_data['Date'], student_data['Score'])\n",
        "      plt.xlabel('Date')\n",
        "      plt.ylabel('Score')\n",
        "      plt.title(f\"Performance Trend for {student_name}\")\n",
        "      plt.xticks(rotation=45)  # Rotate x-axis labels for better readability\n",
        "      plt.tight_layout()  # Adjust layout to prevent labels from overlapping\n",
        "      plt.show()\n",
        "  else:\n",
        "      print(f\"No data found for student: {student_name}\")\n",
        "else:\n",
        "    print(\"Error: 'Date' column not found in the DataFrame. Cannot create the line graph.\")"
      ],
      "metadata": {
        "id": "u2m5hbdmcGbW",
        "outputId": "d13f45cb-bda9-4300-d844-5d189abc0e98",
        "colab": {
          "base_uri": "https://localhost:8080/",
          "height": 1000
        }
      },
      "execution_count": 11,
      "outputs": [
        {
          "output_type": "display_data",
          "data": {
            "text/plain": [
              "<Figure size 800x600 with 1 Axes>"
            ],
            "image/png": "[encoded data removed]"
          },
          "metadata": {}
        },
        {
          "output_type": "display_data",
          "data": {
            "text/plain": [
              "<Figure size 600x600 with 1 Axes>"
            ],
            "image/png": "[encoded data removed]"
          },
          "metadata": {}
        },
        {
          "output_type": "stream",
          "name": "stdout",
          "text": [
            "Error: 'Date' column not found in the DataFrame. Cannot create the line graph.\n"
          ]
        }
      ]
    },
    {
      "cell_type": "code",
      "source": [],
      "metadata": {
        "id": "LinuGi-1tY-p"
      },
      "execution_count": null,
      "outputs": []
    },
    {
      "cell_type": "code",
      "source": [
        "#  Applying Functions and Logic\n",
        "# ●  Implement  Functions  for:\n",
        "# ○  Calculating aggregate scores for each student.\n",
        "# ○  Determining grade (A/B/C/Fail) based on scoring criteria.\n",
        "# ○  Generating student performance reports in a user-friendly format.\n",
        "\n",
        "def calculate_aggregate_score(df):\n",
        "    # Assuming 'Score', 'Attendance Percentage', and 'Assignment Completion' columns exist\n",
        "    # and 'Assignment Completion' is 'Yes' or 'No'.  Adjust as needed for your data.\n",
        "    df['Assignment Points'] = df['Assignment Completion'].apply(lambda x: 10 if x == 'Yes' else 0)\n",
        "    df['Aggregate Score'] = 0.6 * df['Score'] + 0.3 * df['Attendance Percentage'] + 0.1 * df['Assignment Points']\n",
        "    return df\n",
        "\n",
        "def determine_grade(aggregate_score):\n",
        "    if aggregate_score >= 90:\n",
        "        return 'A'\n",
        "    elif aggregate_score >= 80:\n",
        "        return 'B'\n",
        "    elif aggregate_score >= 70:\n",
        "        return 'C'\n",
        "    else:\n",
        "        return 'Fail'\n",
        "\n",
        "def generate_student_report(df):\n",
        "    df = calculate_aggregate_score(df)\n",
        "    df['Grade'] = df['Aggregate Score'].apply(determine_grade)\n",
        "\n",
        "    # Generate report\n",
        "    for index, row in df.iterrows():\n",
        "        print(\"-\" * 30)\n",
        "        print(f\"Student Name: {row['Student Name']}\")\n",
        "        print(f\"Student ID: {row['Student ID']}\")\n",
        "        print(f\"Subject: {row['Subject']}\")\n",
        "        print(f\"Score: {row['Score']}\")\n",
        "        print(f\"Attendance Percentage: {row['Attendance Percentage']}%\")\n",
        "        print(f\"Assignment Completion: {row['Assignment Completion']}\")\n",
        "        print(f\"Aggregate Score: {row['Aggregate Score']:.2f}\")\n",
        "        print(f\"Grade: {row['Grade']}\")\n",
        "        print(\"-\" * 30)\n",
        "\n",
        "# Example usage: Assuming 'df' is your DataFrame from the previous code\n",
        "# Load the data (replace 'modified_students_data.csv' with your actual file)\n",
        "try:\n",
        "    df = pd.read_csv('modified_students_data.csv')\n",
        "    # Convert 'Score' and 'Attendance Percentage' to numeric, handling errors\n",
        "    df['Score'] = pd.to_numeric(df['Score'], errors='coerce')\n",
        "    df['Attendance Percentage'] = pd.to_numeric(df['Attendance Percentage'], errors='coerce')\n",
        "except FileNotFoundError:\n",
        "    print(\"Error: 'modified_students_data.csv' not found.\")\n",
        "    exit()\n",
        "except pd.errors.EmptyDataError:\n",
        "    print(\"Error: 'modified_students_data.csv' is empty.\")\n",
        "    exit()\n",
        "except Exception as e:\n",
        "    print(f\"An unexpected error occurred: {e}\")\n",
        "    exit()\n",
        "\n",
        "\n",
        "generate_student_report(df)"
      ],
      "metadata": {
        "id": "QlV1AJPXtEA7",
        "outputId": "27a46adb-1b5a-43ee-f5c7-5db6ff6912c0",
        "colab": {
          "base_uri": "https://localhost:8080/"
        }
      },
      "execution_count": 30,
      "outputs": [
        {
          "output_type": "stream",
          "name": "stdout",
          "text": [
            "------------------------------\n",
            "Student Name: mitu\n",
            "Student ID: STU-34456\n",
            "Subject: STATISTICS\n",
            "Score: 89\n",
            "Attendance Percentage: 90%\n",
            "Assignment Completion: YES\n",
            "Aggregate Score: 80.40\n",
            "Grade: B\n",
            "------------------------------\n",
            "------------------------------\n",
            "Student Name: mitu\n",
            "Student ID: STU-34456\n",
            "Subject: math\n",
            "Score: 89\n",
            "Attendance Percentage: 70%\n",
            "Assignment Completion: no\n",
            "Aggregate Score: 74.40\n",
            "Grade: C\n",
            "------------------------------\n",
            "------------------------------\n",
            "Student Name: meem\n",
            "Student ID: 456\n",
            "Subject: bmb\n",
            "Score: 58\n",
            "Attendance Percentage: 60%\n",
            "Assignment Completion: yes\n",
            "Aggregate Score: 52.80\n",
            "Grade: Fail\n",
            "------------------------------\n",
            "------------------------------\n",
            "Student Name: monami\n",
            "Student ID: STU-23345\n",
            "Subject: math\n",
            "Score: 86\n",
            "Attendance Percentage: 40%\n",
            "Assignment Completion: yes\n",
            "Aggregate Score: 63.60\n",
            "Grade: Fail\n",
            "------------------------------\n"
          ]
        }
      ]
    },
    {
      "cell_type": "code",
      "source": [],
      "metadata": {
        "id": "eRX3ddlgtTnG"
      },
      "execution_count": null,
      "outputs": []
    },
    {
      "cell_type": "markdown",
      "source": [],
      "metadata": {
        "id": "bmyBOUxXmomE"
      }
    },
    {
      "cell_type": "markdown",
      "source": [
        "6. ADVANCED FEATURE"
      ],
      "metadata": {
        "id": "cHHUbBpZmooL"
      }
    },
    {
      "cell_type": "code",
      "source": [
        "import re\n",
        "from datetime import datetime\n",
        "\n",
        "def log_execution(func):\n",
        "    \"\"\"\n",
        "    Decorator to log when a particular function is executed.\n",
        "    \"\"\"\n",
        "    def wrapper(*args, **kwargs):\n",
        "        with open(\"execution_log.txt\", \"a\") as log_file:\n",
        "            log_file.write(f\"Function '{func.__name__}' executed at {datetime.now()}\\n\")\n",
        "        return func(*args, **kwargs)\n",
        "    return wrapper\n",
        "\n",
        "# Exception Handling Example\n",
        "@log_execution\n",
        "def read_file(file_path):\n",
        "    \"\"\"\n",
        "    Reads a file and returns its contents.\n",
        "    Handles FileNotFoundError.\n",
        "    \"\"\"\n",
        "    try:\n",
        "        with open(file_path, \"r\") as file:\n",
        "            return file.read()\n",
        "    except FileNotFoundError:\n",
        "        print(\"Error: File not found.\")\n",
        "        return None\n",
        "\n",
        "@log_execution\n",
        "def divide_numbers(a, b):\n",
        "    \"\"\"\n",
        "    Divides two numbers.\n",
        "    Handles division by zero.\n",
        "    \"\"\"\n",
        "    try:\n",
        "        return a / b\n",
        "    except ZeroDivisionError:\n",
        "        print(\"Error: Division by zero is not allowed.\")\n",
        "        return None\n",
        "\n",
        "# Regular Expressions Example\n",
        "@log_execution\n",
        "def validate_student_id(student_id):\n",
        "    \"\"\"\n",
        "    Validates a student ID based on the pattern STU-12345.\n",
        "    \"\"\"\n",
        "    pattern = r\"^STU-\\d{5}$\"\n",
        "    if re.match(pattern, student_id):\n",
        "        print(\"Valid Student ID.\")\n",
        "        return True\n",
        "    else:\n",
        "        print(\"Invalid Student ID. Format should be 'STU-12345'.\")\n",
        "        return False\n",
        "\n",
        "# Testing the functions\n",
        "if __name__ == \"__main__\":\n",
        "    # Test exception handling\n",
        "    print(\"Reading file...\")\n",
        "    content = read_file(\"students_data.csv\")\n",
        "    print(\"File content:\", content)\n",
        "\n",
        "    print(\"\\nDividing numbers...\")\n",
        "    result = divide_numbers(10, 0)\n",
        "    print(\"Division result:\", result)\n",
        "\n",
        "    # Test regular expression validation\n",
        "    print(\"\\nValidating Student ID...\")\n",
        "    is_valid = validate_student_id(\"STU-12345\")\n",
        "    print(\"Is valid:\", is_valid)\n",
        "\n",
        "    is_valid = validate_student_id(\"12345-STU\")\n",
        "    print(\"Is valid:\", is_valid)\n"
      ],
      "metadata": {
        "colab": {
          "base_uri": "https://localhost:8080/"
        },
        "id": "6k1QkrpJ4rtA",
        "outputId": "c1e32781-40ee-4031-d01c-b4b44c50d06b"
      },
      "execution_count": 20,
      "outputs": [
        {
          "output_type": "stream",
          "name": "stdout",
          "text": [
            "Reading file...\n",
            "File content: Student Name,Student ID,Subject,Score,Attendance Percentage,Assignment Completion\n",
            "mitu,STU-34456,STATISTICS,80,90,YES\n",
            "mitu,STU-34456,math,65,70,no\n",
            "meem,456,bmb,59,60,yes\n",
            "monami,STU-23345,math,86,40,yes\n",
            "\n",
            "\n",
            "Dividing numbers...\n",
            "Error: Division by zero is not allowed.\n",
            "Division result: None\n",
            "\n",
            "Validating Student ID...\n",
            "Valid Student ID.\n",
            "Is valid: True\n",
            "Invalid Student ID. Format should be 'STU-12345'.\n",
            "Is valid: False\n"
          ]
        }
      ]
    },
    {
      "cell_type": "markdown",
      "source": [
        "7. interactive console input output\n",
        "\n",
        "> Add blockquote\n",
        "\n"
      ],
      "metadata": {
        "id": "3B9NYOA3pM2n"
      }
    },
    {
      "cell_type": "code",
      "source": [
        "#Interactive Console Input/Output\n",
        "# ●  Allow the user to:\n",
        "# ○  Add a new student’s data via console inputs.\n",
        "# ○  Search for a student by name or ID.\n",
        "# ○  Update a student's score or attendance.\n",
        "\n",
        "def search_student():\n",
        "    search_term = input(\"Enter student name or ID to search: \")\n",
        "    try:\n",
        "        df = pd.read_csv('modified_students_data.csv')\n",
        "        # Search by name or ID\n",
        "        results = df[\n",
        "            (df['Student Name'].str.contains(search_term, case=False)) | (df['Student ID'] == search_term)\n",
        "        ]\n",
        "        if not results.empty:\n",
        "            print(results)\n",
        "        else:\n",
        "            print(f\"No student found with name or ID containing '{search_term}'.\")\n",
        "    except FileNotFoundError:\n",
        "        print(\"Error: 'modified_students_data.csv' not found.\")\n",
        "    except Exception as e:\n",
        "        print(f\"An unexpected error occurred: {e}\")\n",
        "\n",
        "def update_student():\n",
        "    student_id_to_update = input(\"Enter Student ID to update: \")\n",
        "    try:\n",
        "      df = pd.read_csv('modified_students_data.csv')\n",
        "      if student_id_to_update in df['Student ID'].values:\n",
        "          update_field = input(\"Enter field to update (Score, Attendance Percentage, Assignment Completion): \")\n",
        "          new_value = input(f\"Enter new {update_field}: \")\n",
        "\n",
        "          if update_field == \"Score\":\n",
        "              try:\n",
        "                  new_value = int(new_value) # Convert to integer if score\n",
        "              except ValueError:\n",
        "                  print(\"Invalid score. Please enter an integer.\")\n",
        "                  return\n",
        "          # Update the DataFrame\n",
        "          df.loc[df['Student ID'] == student_id_to_update, update_field] = new_value\n",
        "          # Save the changes back to the CSV file\n",
        "          df.to_csv('modified_students_data.csv', index=False)\n",
        "          print(f\"Updated {update_field} for Student ID {student_id_to_update}\")\n",
        "      else:\n",
        "          print(f\"Student ID '{student_id_to_update}' not found.\")\n",
        "    except FileNotFoundError:\n",
        "        print(\"Error: 'modified_students_data.csv' not found.\")\n",
        "    except Exception as e:\n",
        "        print(f\"An unexpected error occurred: {e}\")\n",
        "\n",
        "while True:\n",
        "    print(\"\\nStudent Management System\")\n",
        "    print(\"1. Add Student\")\n",
        "    print(\"2. Search Student\")\n",
        "    print(\"3. Update Student\")\n",
        "    print(\"4. Exit\")\n",
        "\n",
        "    choice = input(\"Enter your choice: \")\n",
        "\n",
        "    if choice == '1':\n",
        "        input_data()\n",
        "    elif choice == '2':\n",
        "        search_student()\n",
        "    elif choice == '3':\n",
        "        update_student()\n",
        "    elif choice == '4':\n",
        "        break\n",
        "    else:\n",
        "        print(\"Invalid choice. Please try again.\")"
      ],
      "metadata": {
        "id": "zY2LeRrIpaAi",
        "outputId": "2b0f0388-cf28-40f3-f07b-5244406b7a44",
        "colab": {
          "base_uri": "https://localhost:8080/"
        }
      },
      "execution_count": 22,
      "outputs": [
        {
          "name": "stdout",
          "output_type": "stream",
          "text": [
            "\n",
            "Student Management System\n",
            "1. Add Student\n",
            "2. Search Student\n",
            "3. Update Student\n",
            "4. Exit\n",
            "Enter your choice: 1\n",
            "Enter Student Name: moumi\n",
            "Enter Student ID: STU-64479\n",
            "Enter Subject: REAL ANALYSIS\n",
            "Enter Score: 56\n",
            "Enter Attendance Percentage: 79\n",
            "Enter Assignment Completion (Yes/No): YES\n",
            "\n",
            "Student Management System\n",
            "1. Add Student\n",
            "2. Search Student\n",
            "3. Update Student\n",
            "4. Exit\n",
            "Enter your choice: 2\n",
            "Enter student name or ID to search: STU-34456\n",
            "  Student Name Student ID     Subject  Score  Attendance Percentage  \\\n",
            "0         mitu  STU-34456  STATISTICS     80                     90   \n",
            "1         mitu  STU-34456        math     65                     70   \n",
            "\n",
            "  Assignment Completion  \n",
            "0                   YES  \n",
            "1                    no  \n",
            "\n",
            "Student Management System\n",
            "1. Add Student\n",
            "2. Search Student\n",
            "3. Update Student\n",
            "4. Exit\n",
            "Enter your choice: 3\n",
            "Enter Student ID to update: STU-34456\n",
            "Enter field to update (Score, Attendance Percentage, Assignment Completion): Score\n",
            "Enter new Score: 89\n",
            "Updated Score for Student ID STU-34456\n",
            "\n",
            "Student Management System\n",
            "1. Add Student\n",
            "2. Search Student\n",
            "3. Update Student\n",
            "4. Exit\n",
            "Enter your choice: 4\n"
          ]
        }
      ]
    }
  ]
}